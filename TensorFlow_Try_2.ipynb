{
 "cells": [
  {
   "cell_type": "code",
   "execution_count": 191,
   "metadata": {},
   "outputs": [],
   "source": [
    "#The usual collection of indispensables \n",
    "import numpy as np\n",
    "import matplotlib.pyplot as plt\n",
    "import datetime\n",
    "import scipy.fftpack\n",
    "\n",
    "# And the tf and keras framework, thanks to Google\n",
    "import tensorflow as tf\n",
    "from tensorflow import keras"
   ]
  },
  {
   "cell_type": "code",
   "execution_count": 256,
   "metadata": {},
   "outputs": [],
   "source": [
    "#---------------------------------- TEST METHOD 1\n",
    "def way_1_random_row():\n",
    "    position = random.randrange(2)\n",
    "    tm = np.zeros(40)\n",
    "    if(position==0):\n",
    "        for i in range(0,20):\n",
    "            tm[i] = random.uniform(10, 20.0)\n",
    "    if(position==1):\n",
    "        for i in range(0,20):\n",
    "            tm[i+20] = random.uniform(10, 20.0)\n",
    "    return(tm,position)\n",
    "\n",
    "train_data = [np.zeros(40)]\n",
    "train_labels = []\n",
    "for k in range(5000):\n",
    "    data_row,data_row_category = way_1_random_row()\n",
    "    data_row = data_row[0:40]\n",
    "    data_row = data_row / data_row.max()\n",
    "    train_labels.append(data_row_category)\n",
    "    train_data = np.concatenate((train_data,[data_row]), axis=0);\n",
    "\n",
    "#---------------------------------- TRAIN DATA\n",
    "train_data = train_data[1:]\n",
    "train_labels = np.array(train_labels)\n",
    "class_names = ['With_Opening', 'Without_Opening']\n",
    "train_data = train_data / train_data.max()\n",
    "\n",
    "#---------------------------------- TEST DATA\n",
    "test_data = [np.zeros(40)]\n",
    "test_labels = []\n",
    "for k in range(500):\n",
    "    data_row,data_row_category = way_1_random_row()\n",
    "    data_row = data_row[0:40]\n",
    "    test_labels.append(data_row_category)\n",
    "    test_data = np.concatenate((test_data,[data_row]), axis=0);\n",
    "\n",
    "test_data = test_data[1:]\n",
    "test_labels = np.array(test_labels)\n",
    "test_data = test_data / test_data.max()"
   ]
  },
  {
   "cell_type": "code",
   "execution_count": 302,
   "metadata": {},
   "outputs": [
    {
     "name": "stdout",
     "output_type": "stream",
     "text": [
      "Epoch 1/5\n",
      "157/157 [==============================] - 1s 796us/step - loss: 7.7799 - accuracy: 0.4956\n",
      "Epoch 2/5\n",
      "157/157 [==============================] - 0s 823us/step - loss: 8.0245 - accuracy: 0.4798\n",
      "Epoch 3/5\n",
      "157/157 [==============================] - 0s 957us/step - loss: 7.8318 - accuracy: 0.4923\n",
      "Epoch 4/5\n",
      "157/157 [==============================] - 0s 724us/step - loss: 7.7663 - accuracy: 0.4965\n",
      "Epoch 5/5\n",
      "157/157 [==============================] - 0s 1ms/step - loss: 7.9377 - accuracy: 0.4854\n"
     ]
    },
    {
     "data": {
      "text/plain": [
       "<tensorflow.python.keras.callbacks.History at 0x7fc1ae3c4310>"
      ]
     },
     "execution_count": 302,
     "metadata": {},
     "output_type": "execute_result"
    }
   ],
   "source": [
    "model = keras.Sequential([\n",
    "    keras.layers.Dense(40),  # input layer (1)\n",
    "     keras.layers.Dense(8),  # hidden layer (2)\n",
    "    keras.layers.Dense(1) # output layer (3)\n",
    "])\n",
    "\n",
    "model.compile(optimizer='adam',\n",
    "              loss='binary_crossentropy',\n",
    "              metrics=['accuracy'])\n",
    "\n",
    "model.fit(train_data, train_labels, epochs=5)"
   ]
  },
  {
   "cell_type": "code",
   "execution_count": 301,
   "metadata": {},
   "outputs": [
    {
     "ename": "ValueError",
     "evalue": "This model has not yet been built. Build the model first by calling `build()` or calling `fit()` with some data, or specify an `input_shape` argument in the first layer(s) for automatic build.",
     "output_type": "error",
     "traceback": [
      "\u001b[0;31m---------------------------------------------------------------------------\u001b[0m",
      "\u001b[0;31mValueError\u001b[0m                                Traceback (most recent call last)",
      "\u001b[0;32m<ipython-input-301-4b2000ec2540>\u001b[0m in \u001b[0;36m<module>\u001b[0;34m\u001b[0m\n\u001b[0;32m----> 1\u001b[0;31m \u001b[0mmodel\u001b[0m\u001b[0;34m.\u001b[0m\u001b[0msummary\u001b[0m\u001b[0;34m(\u001b[0m\u001b[0;34m)\u001b[0m\u001b[0;34m\u001b[0m\u001b[0;34m\u001b[0m\u001b[0m\n\u001b[0m\u001b[1;32m      2\u001b[0m \u001b[0;34m\u001b[0m\u001b[0m\n",
      "\u001b[0;32m/opt/anaconda3/lib/python3.7/site-packages/tensorflow/python/keras/engine/training.py\u001b[0m in \u001b[0;36msummary\u001b[0;34m(self, line_length, positions, print_fn)\u001b[0m\n\u001b[1;32m   2374\u001b[0m     \"\"\"\n\u001b[1;32m   2375\u001b[0m     \u001b[0;32mif\u001b[0m \u001b[0;32mnot\u001b[0m \u001b[0mself\u001b[0m\u001b[0;34m.\u001b[0m\u001b[0mbuilt\u001b[0m\u001b[0;34m:\u001b[0m\u001b[0;34m\u001b[0m\u001b[0;34m\u001b[0m\u001b[0m\n\u001b[0;32m-> 2376\u001b[0;31m       raise ValueError('This model has not yet been built. '\n\u001b[0m\u001b[1;32m   2377\u001b[0m                        \u001b[0;34m'Build the model first by calling `build()` or calling '\u001b[0m\u001b[0;34m\u001b[0m\u001b[0;34m\u001b[0m\u001b[0m\n\u001b[1;32m   2378\u001b[0m                        \u001b[0;34m'`fit()` with some data, or specify '\u001b[0m\u001b[0;34m\u001b[0m\u001b[0;34m\u001b[0m\u001b[0m\n",
      "\u001b[0;31mValueError\u001b[0m: This model has not yet been built. Build the model first by calling `build()` or calling `fit()` with some data, or specify an `input_shape` argument in the first layer(s) for automatic build."
     ]
    }
   ],
   "source": [
    "model.summary()\n",
    "\n"
   ]
  },
  {
   "cell_type": "code",
   "execution_count": 293,
   "metadata": {},
   "outputs": [
    {
     "name": "stdout",
     "output_type": "stream",
     "text": [
      "Epoch 1/5\n",
      "157/157 [==============================] - 1s 804us/step - loss: 3.5458e-04 - accuracy: 1.0000\n",
      "Epoch 2/5\n",
      "157/157 [==============================] - 0s 675us/step - loss: 0.0000e+00 - accuracy: 1.0000\n",
      "Epoch 3/5\n",
      "157/157 [==============================] - 0s 750us/step - loss: 0.0000e+00 - accuracy: 1.0000\n",
      "Epoch 4/5\n",
      "157/157 [==============================] - 0s 698us/step - loss: 0.0000e+00 - accuracy: 1.0000\n",
      "Epoch 5/5\n",
      "157/157 [==============================] - 0s 680us/step - loss: 0.0000e+00 - accuracy: 1.0000\n"
     ]
    },
    {
     "data": {
      "text/plain": [
       "<tensorflow.python.keras.callbacks.History at 0x7fc1ac38a550>"
      ]
     },
     "execution_count": 293,
     "metadata": {},
     "output_type": "execute_result"
    }
   ],
   "source": [
    "\n"
   ]
  },
  {
   "cell_type": "code",
   "execution_count": 279,
   "metadata": {},
   "outputs": [
    {
     "name": "stdout",
     "output_type": "stream",
     "text": [
      "16/16 [==============================] - 0s 713us/step - loss: 0.0000e+00 - accuracy: 1.0000\n",
      "Test accuracy: 1.0\n"
     ]
    }
   ],
   "source": [
    "test_loss, test_acc = model.evaluate(test_data,  test_labels, verbose=1) \n",
    "\n",
    "print('Test accuracy:', test_acc)"
   ]
  },
  {
   "cell_type": "code",
   "execution_count": 192,
   "metadata": {},
   "outputs": [],
   "source": [
    "def one_random_row():\n",
    "    orientation = random.randrange(2)\n",
    "    if(orientation==0):\n",
    "        start_line = 0\n",
    "        end_line = 10\n",
    "        timestep_line = 0.1\n",
    "    if(orientation==1):\n",
    "        start_line = 5\n",
    "        end_line = 1\n",
    "        timestep_line = -0.1\n",
    "    tm =  np.arange(start_line,end_line , timestep_line);\n",
    "    SNR = random.uniform(1, 20.0)\n",
    "    LC = random.uniform(1, 50.0)\n",
    "    tm_2 = tm + LC + np.random.normal(0,10**(-SNR/20),len(tm))\n",
    "    return(tm_2,orientation)"
   ]
  },
  {
   "cell_type": "code",
   "execution_count": 233,
   "metadata": {},
   "outputs": [],
   "source": [
    "#------------------------------- TRAIN DATA\n",
    "train_data = [np.zeros(40)]\n",
    "train_labels = []\n",
    "for k in range(10000):\n",
    "    data_row,data_row_category = one_random_row()\n",
    "    data_row = data_row[0:40]\n",
    "    data_row = data_row / data_row.max()\n",
    "    train_labels.append(data_row_category)\n",
    "    train_data = np.concatenate((train_data,[data_row]), axis=0);\n",
    "\n",
    "train_data = train_data[1:]\n",
    "train_labels = np.array(train_labels)\n",
    "class_names = ['With_Opening', 'Without_Opening']\n",
    "train_data = train_data / train_data.max()"
   ]
  },
  {
   "cell_type": "code",
   "execution_count": 234,
   "metadata": {},
   "outputs": [
    {
     "data": {
      "image/png": "[encoded data removed]",
      "text/plain": [
       "<Figure size 432x288 with 1 Axes>"
      ]
     },
     "metadata": {
      "needs_background": "light"
     },
     "output_type": "display_data"
    }
   ],
   "source": [
    "plt.plot(train_data[0])\n",
    "plt.plot(train_data[1])\n",
    "plt.plot(train_data[2])\n",
    "plt.show()"
   ]
  },
  {
   "cell_type": "code",
   "execution_count": 194,
   "metadata": {},
   "outputs": [],
   "source": [
    "#------------------------------- TEST DATA\n",
    "test_data = [np.zeros(40)]\n",
    "test_labels = []\n",
    "for k in range(500):\n",
    "    data_row,data_row_category = one_random_row()\n",
    "    data_row = data_row[0:40]\n",
    "    test_labels.append(data_row_category)\n",
    "    test_data = np.concatenate((test_data,[data_row]), axis=0);\n",
    "\n",
    "test_data = test_data[1:]\n",
    "test_labels = np.array(test_labels)\n",
    "test_data = test_data / test_data.max()"
   ]
  },
  {
   "cell_type": "code",
   "execution_count": 228,
   "metadata": {},
   "outputs": [],
   "source": [
    "model = keras.Sequential([\n",
    "    keras.layers.Dense(30),  # input layer (1)\n",
    "     keras.layers.Dense(20, activation='relu'),  # hidden layer (2)\n",
    "    keras.layers.Dense(1, activation='softmax') # output layer (3)\n",
    "])\n",
    "\n",
    "model.compile(optimizer='adam',\n",
    "              loss='binary_crossentropy',\n",
    "              metrics=['accuracy'])\n",
    "\n",
    "model.fit(train_data, train_labels, epochs=1)"
   ]
  },
  {
   "cell_type": "code",
   "execution_count": null,
   "metadata": {},
   "outputs": [],
   "source": []
  },
  {
   "cell_type": "code",
   "execution_count": 235,
   "metadata": {},
   "outputs": [],
   "source": []
  },
  {
   "cell_type": "code",
   "execution_count": 236,
   "metadata": {},
   "outputs": [
    {
     "name": "stdout",
     "output_type": "stream",
     "text": [
      "313/313 [==============================] - 1s 751us/step - loss: 0.0224 - accuracy: 0.4943\n"
     ]
    },
    {
     "data": {
      "text/plain": [
       "<tensorflow.python.keras.callbacks.History at 0x7fc1bc6aef10>"
      ]
     },
     "execution_count": 236,
     "metadata": {},
     "output_type": "execute_result"
    }
   ],
   "source": []
  },
  {
   "cell_type": "code",
   "execution_count": 198,
   "metadata": {},
   "outputs": [
    {
     "name": "stdout",
     "output_type": "stream",
     "text": [
      "16/16 [==============================] - 0s 770us/step - loss: 0.1372 - accuracy: 0.5340\n",
      "Test accuracy: 0.5339999794960022\n"
     ]
    }
   ],
   "source": [
    "\n",
    "\n",
    "test_loss, test_acc = model.evaluate(test_data,  test_labels, verbose=1) \n",
    "\n",
    "print('Test accuracy:', test_acc)"
   ]
  },
  {
   "cell_type": "code",
   "execution_count": null,
   "metadata": {},
   "outputs": [],
   "source": [
    "# Time series prediction model\n",
    "def dnn_keras_tspred_model():\n",
    "    model = keras.Sequential([\n",
    "        keras.layers.Dense(40, activation=tf.nn.relu),\n",
    "        keras.layers.Dense(20, activation=tf.nn.relu),\n",
    "        keras.layers.Dense(1)])\n",
    "    optimizer = tf.keras.optimizers.Adam()\n",
    "    model.compile(loss='mse',optimizer=optimizer,metrics=['mae']) \n",
    "    model.summary()\n",
    "    return model\n",
    "\n",
    "model = dnn_keras_tspred_model()"
   ]
  }
 ],
 "metadata": {
  "kernelspec": {
   "display_name": "Python 3",
   "language": "python",
   "name": "python3"
  },
  "language_info": {
   "codemirror_mode": {
    "name": "ipython",
    "version": 3
   },
   "file_extension": ".py",
   "mimetype": "text/x-python",
   "name": "python",
   "nbconvert_exporter": "python",
   "pygments_lexer": "ipython3",
   "version": "3.7.6"
  }
 },
 "nbformat": 4,
 "nbformat_minor": 4
}
